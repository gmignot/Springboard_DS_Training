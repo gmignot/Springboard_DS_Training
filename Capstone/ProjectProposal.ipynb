{
 "cells": [
  {
   "cell_type": "markdown",
   "metadata": {},
   "source": [
    "# Capstone Project Proposal\n",
    "## Housing price prediction - How a real-estate expert can help improving a model\n",
    "\n",
    "### 1. What is the problem you want to solve ?\n",
    "\n",
    "Many people attempt to predict the housing price using ML. I don't pretend that I can do better, and this is not the goal of my capstone project. Through this project, I want evaluate to what extent domain knowledge can improve a basic model.\n",
    "\n",
    "Based on data scraped from the web, and a straightforward approach (based on my limited knowledge of real-estate), I'll work on a first model (that I'll try to improve).\n",
    "Then, I'll work closely with a real-estate professionnal and assess whether I can improve my model.\n",
    "\n",
    "\n",
    "### 2. Who is your client and why do they care about this problem? In other words, what will your client DO or DECIDE based on your analysis that they wouldn’t have otherwise?\n",
    "\n",
    "My client, in this case, is anyone new to data science (either a soon-to-be data scientist or someone trying to understand how to work with data scientists). As I am convinced that an extensive understanding of the problem/domain is key in order to provide a robust model, I will try to provide an example (hopefully a working one).\n",
    "Based on the outcome, I expect the \"clients\" to work mindful, with a strong understanding of the way they interpret the data they use.\n",
    "\n",
    "### 3. What data are you going to use for this? How will you acquire this data?\n",
    "\n",
    "As my goal is not to provide a super-accurate model, I don't need tons of data. To get as close as possible to a real-life situation, I'll scrape the data from the web myself. \n",
    "\n",
    "### 4. In brief, outline your approach to solving this problem (knowing that this might change later).\n",
    "\n",
    "For now, I think I'll work with around 500 observations scraped from the web (all relative to a house sold in Belgium). \n",
    "At first, I'll clean the data I need and keep only the features I think are relevant (and where I have enough observations).\n",
    "Then, I'll try to build my model around these (by transforming, scaling, ...). \n",
    "<br>\n",
    "Once I have a decent model (for this few data), I'll meet with a real-estate professionnal and try improving my knowledge of this domain. Based on what I'll learn, I'll change the way I use the data as well as my features selection and I'll assess whether I could improve the model or not.\n",
    "\n",
    "### 5. What are your deliverables? Typically, this would include code, along with a paper and/or a slide deck.\n",
    "\n",
    "I'll deliver the code I used to scrape the data from the web, although it should not be used again as it generates un-necessary web trafic. <br>\n",
    "Also, I'll deliver the code for my models (after and before talking with a real-estate professionnal). These will come with my conclusions (paper)."
   ]
  }
 ],
 "metadata": {
  "kernelspec": {
   "display_name": "Python 3",
   "language": "python",
   "name": "python3"
  },
  "language_info": {
   "codemirror_mode": {
    "name": "ipython",
    "version": 3
   },
   "file_extension": ".py",
   "mimetype": "text/x-python",
   "name": "python",
   "nbconvert_exporter": "python",
   "pygments_lexer": "ipython3",
   "version": "3.6.0"
  }
 },
 "nbformat": 4,
 "nbformat_minor": 2
}
