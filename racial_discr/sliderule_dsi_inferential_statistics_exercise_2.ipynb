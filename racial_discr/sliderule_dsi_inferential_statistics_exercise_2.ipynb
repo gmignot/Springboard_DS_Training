{
 "cells": [
  {
   "cell_type": "markdown",
   "metadata": {},
   "source": [
    "# Examining Racial Discrimination in the US Job Market\n",
    "\n",
    "### Background\n",
    "Racial discrimination continues to be pervasive in cultures throughout the world. Researchers examined the level of racial discrimination in the United States labor market by randomly assigning identical résumés to black-sounding or white-sounding names and observing the impact on requests for interviews from employers.\n",
    "\n",
    "### Data\n",
    "In the dataset provided, each row represents a resume. The 'race' column has two values, 'b' and 'w', indicating black-sounding and white-sounding. The column 'call' has two values, 1 and 0, indicating whether the resume received a call from employers or not.\n",
    "\n",
    "Note that the 'b' and 'w' values in race are assigned randomly to the resumes when presented to the employer."
   ]
  },
  {
   "cell_type": "markdown",
   "metadata": {},
   "source": [
    "### Exercises\n",
    "You will perform a statistical analysis to establish whether race has a significant impact on the rate of callbacks for resumes.\n",
    "\n",
    "Answer the following questions **in this notebook below and submit to your Github account**. \n",
    "\n",
    "   1. What test is appropriate for this problem? Does CLT apply?\n",
    "   2. What are the null and alternate hypotheses?\n",
    "   3. Compute margin of error, confidence interval, and p-value.\n",
    "   4. Write a story describing the statistical significance in the context or the original problem.\n",
    "   5. Does your analysis mean that race/name is the most important factor in callback success? Why or why not? If not, how would you amend your analysis?\n",
    "\n",
    "You can include written notes in notebook cells using Markdown: \n",
    "   - In the control panel at the top, choose Cell > Cell Type > Markdown\n",
    "   - Markdown syntax: http://nestacms.com/docs/creating-content/markdown-cheat-sheet\n",
    "\n",
    "\n",
    "#### Resources\n",
    "+ Experiment information and data source: http://www.povertyactionlab.org/evaluation/discrimination-job-market-united-states\n",
    "+ Scipy statistical methods: http://docs.scipy.org/doc/scipy/reference/stats.html \n",
    "+ Markdown syntax: http://nestacms.com/docs/creating-content/markdown-cheat-sheet\n",
    "****"
   ]
  },
  {
   "cell_type": "code",
   "execution_count": 4,
   "metadata": {
    "collapsed": true
   },
   "outputs": [],
   "source": [
    "import pandas as pd\n",
    "import numpy as np\n",
    "from scipy import stats"
   ]
  },
  {
   "cell_type": "code",
   "execution_count": 5,
   "metadata": {
    "collapsed": false
   },
   "outputs": [],
   "source": [
    "data = pd.io.stata.read_stata('data/us_job_market_discrimination.dta')"
   ]
  },
  {
   "cell_type": "code",
   "execution_count": 6,
   "metadata": {
    "collapsed": false
   },
   "outputs": [
    {
     "data": {
      "text/plain": [
       "157.0"
      ]
     },
     "execution_count": 6,
     "metadata": {},
     "output_type": "execute_result"
    }
   ],
   "source": [
    "# number of callbacks for black-sounding names\n",
    "sum(data[data.race=='b'].call)"
   ]
  },
  {
   "cell_type": "code",
   "execution_count": 7,
   "metadata": {
    "collapsed": false
   },
   "outputs": [
    {
     "data": {
      "text/html": [
       "<div>\n",
       "<table border=\"1\" class=\"dataframe\">\n",
       "  <thead>\n",
       "    <tr style=\"text-align: right;\">\n",
       "      <th></th>\n",
       "      <th>id</th>\n",
       "      <th>ad</th>\n",
       "      <th>education</th>\n",
       "      <th>ofjobs</th>\n",
       "      <th>yearsexp</th>\n",
       "      <th>honors</th>\n",
       "      <th>volunteer</th>\n",
       "      <th>military</th>\n",
       "      <th>empholes</th>\n",
       "      <th>occupspecific</th>\n",
       "      <th>...</th>\n",
       "      <th>compreq</th>\n",
       "      <th>orgreq</th>\n",
       "      <th>manuf</th>\n",
       "      <th>transcom</th>\n",
       "      <th>bankreal</th>\n",
       "      <th>trade</th>\n",
       "      <th>busservice</th>\n",
       "      <th>othservice</th>\n",
       "      <th>missind</th>\n",
       "      <th>ownership</th>\n",
       "    </tr>\n",
       "  </thead>\n",
       "  <tbody>\n",
       "    <tr>\n",
       "      <th>0</th>\n",
       "      <td>b</td>\n",
       "      <td>1</td>\n",
       "      <td>4</td>\n",
       "      <td>2</td>\n",
       "      <td>6</td>\n",
       "      <td>0</td>\n",
       "      <td>0</td>\n",
       "      <td>0</td>\n",
       "      <td>1</td>\n",
       "      <td>17</td>\n",
       "      <td>...</td>\n",
       "      <td>1.0</td>\n",
       "      <td>0.0</td>\n",
       "      <td>1.0</td>\n",
       "      <td>0.0</td>\n",
       "      <td>0.0</td>\n",
       "      <td>0.0</td>\n",
       "      <td>0.0</td>\n",
       "      <td>0.0</td>\n",
       "      <td>0.0</td>\n",
       "      <td></td>\n",
       "    </tr>\n",
       "    <tr>\n",
       "      <th>1</th>\n",
       "      <td>b</td>\n",
       "      <td>1</td>\n",
       "      <td>3</td>\n",
       "      <td>3</td>\n",
       "      <td>6</td>\n",
       "      <td>0</td>\n",
       "      <td>1</td>\n",
       "      <td>1</td>\n",
       "      <td>0</td>\n",
       "      <td>316</td>\n",
       "      <td>...</td>\n",
       "      <td>1.0</td>\n",
       "      <td>0.0</td>\n",
       "      <td>1.0</td>\n",
       "      <td>0.0</td>\n",
       "      <td>0.0</td>\n",
       "      <td>0.0</td>\n",
       "      <td>0.0</td>\n",
       "      <td>0.0</td>\n",
       "      <td>0.0</td>\n",
       "      <td></td>\n",
       "    </tr>\n",
       "    <tr>\n",
       "      <th>2</th>\n",
       "      <td>b</td>\n",
       "      <td>1</td>\n",
       "      <td>4</td>\n",
       "      <td>1</td>\n",
       "      <td>6</td>\n",
       "      <td>0</td>\n",
       "      <td>0</td>\n",
       "      <td>0</td>\n",
       "      <td>0</td>\n",
       "      <td>19</td>\n",
       "      <td>...</td>\n",
       "      <td>1.0</td>\n",
       "      <td>0.0</td>\n",
       "      <td>1.0</td>\n",
       "      <td>0.0</td>\n",
       "      <td>0.0</td>\n",
       "      <td>0.0</td>\n",
       "      <td>0.0</td>\n",
       "      <td>0.0</td>\n",
       "      <td>0.0</td>\n",
       "      <td></td>\n",
       "    </tr>\n",
       "    <tr>\n",
       "      <th>3</th>\n",
       "      <td>b</td>\n",
       "      <td>1</td>\n",
       "      <td>3</td>\n",
       "      <td>4</td>\n",
       "      <td>6</td>\n",
       "      <td>0</td>\n",
       "      <td>1</td>\n",
       "      <td>0</td>\n",
       "      <td>1</td>\n",
       "      <td>313</td>\n",
       "      <td>...</td>\n",
       "      <td>1.0</td>\n",
       "      <td>0.0</td>\n",
       "      <td>1.0</td>\n",
       "      <td>0.0</td>\n",
       "      <td>0.0</td>\n",
       "      <td>0.0</td>\n",
       "      <td>0.0</td>\n",
       "      <td>0.0</td>\n",
       "      <td>0.0</td>\n",
       "      <td></td>\n",
       "    </tr>\n",
       "    <tr>\n",
       "      <th>4</th>\n",
       "      <td>b</td>\n",
       "      <td>1</td>\n",
       "      <td>3</td>\n",
       "      <td>3</td>\n",
       "      <td>22</td>\n",
       "      <td>0</td>\n",
       "      <td>0</td>\n",
       "      <td>0</td>\n",
       "      <td>0</td>\n",
       "      <td>313</td>\n",
       "      <td>...</td>\n",
       "      <td>1.0</td>\n",
       "      <td>1.0</td>\n",
       "      <td>0.0</td>\n",
       "      <td>0.0</td>\n",
       "      <td>0.0</td>\n",
       "      <td>0.0</td>\n",
       "      <td>0.0</td>\n",
       "      <td>1.0</td>\n",
       "      <td>0.0</td>\n",
       "      <td>Nonprofit</td>\n",
       "    </tr>\n",
       "  </tbody>\n",
       "</table>\n",
       "<p>5 rows × 65 columns</p>\n",
       "</div>"
      ],
      "text/plain": [
       "  id ad  education  ofjobs  yearsexp  honors  volunteer  military  empholes  \\\n",
       "0  b  1          4       2         6       0          0         0         1   \n",
       "1  b  1          3       3         6       0          1         1         0   \n",
       "2  b  1          4       1         6       0          0         0         0   \n",
       "3  b  1          3       4         6       0          1         0         1   \n",
       "4  b  1          3       3        22       0          0         0         0   \n",
       "\n",
       "   occupspecific    ...      compreq  orgreq  manuf  transcom  bankreal trade  \\\n",
       "0             17    ...          1.0     0.0    1.0       0.0       0.0   0.0   \n",
       "1            316    ...          1.0     0.0    1.0       0.0       0.0   0.0   \n",
       "2             19    ...          1.0     0.0    1.0       0.0       0.0   0.0   \n",
       "3            313    ...          1.0     0.0    1.0       0.0       0.0   0.0   \n",
       "4            313    ...          1.0     1.0    0.0       0.0       0.0   0.0   \n",
       "\n",
       "  busservice othservice  missind  ownership  \n",
       "0        0.0        0.0      0.0             \n",
       "1        0.0        0.0      0.0             \n",
       "2        0.0        0.0      0.0             \n",
       "3        0.0        0.0      0.0             \n",
       "4        0.0        1.0      0.0  Nonprofit  \n",
       "\n",
       "[5 rows x 65 columns]"
      ]
     },
     "execution_count": 7,
     "metadata": {},
     "output_type": "execute_result"
    }
   ],
   "source": [
    "data.head()"
   ]
  },
  {
   "cell_type": "code",
   "execution_count": 8,
   "metadata": {
    "collapsed": false
   },
   "outputs": [
    {
     "name": "stdout",
     "output_type": "stream",
     "text": [
      "There are 2435 whites and 2435 blacks.\n"
     ]
    },
    {
     "data": {
      "image/png": "[encoded data removed]",
      "text/plain": [
       "<matplotlib.figure.Figure at 0x195b8e25c50>"
      ]
     },
     "metadata": {},
     "output_type": "display_data"
    }
   ],
   "source": [
    "#Let's first keep only race and callbacks.\n",
    "df = pd.DataFrame({'call':list(data.call),'race':list(data.race)})\n",
    "\n",
    "#Now I can easily look at the relevant data for this exercise. \n",
    "\n",
    "white = df[df.race=='w']\n",
    "black = df[df.race=='b']\n",
    "print('There are {:1.0f} whites and {:1.0f} blacks.'.format(len(white),len(black)))\n",
    "\n",
    "#Let's visually compare callbacks for both races:\n",
    "import matplotlib.pyplot as plt\n",
    "import seaborn as sns\n",
    "\n",
    "_=sns.barplot(x='race',y='call',data=df)\n",
    "\n",
    "plt.show()"
   ]
  },
  {
   "cell_type": "code",
   "execution_count": 9,
   "metadata": {
    "collapsed": false
   },
   "outputs": [
    {
     "name": "stdout",
     "output_type": "stream",
     "text": [
      "9.65% of the white-sounding got a call, while 6.45% of the black-sounding got one.\n",
      "59.95% of total callbacks for the white-sounding, while 40.05% of total callbacks for the black-sounding.\n"
     ]
    }
   ],
   "source": [
    "#Proportions\n",
    "def ratio_success(num,den):\n",
    "    r= np.sum(num)/den\n",
    "    return r\n",
    "\n",
    "w_r=100*ratio_success(white.call,len(white.call))\n",
    "b_r=100*ratio_success(black.call,len(black.call))\n",
    "\n",
    "print('{:1.2f}% of the white-sounding got a call, while {:1.2f}% of the black-sounding got one.'.format(w_r,b_r))\n",
    "\n",
    "#Now, for all callbacks:\n",
    "w_c=100*ratio_success(white.call,np.sum(data.call))\n",
    "b_c=100*ratio_success(black.call,np.sum(data.call))\n",
    "print('{:1.2f}% of total callbacks for the white-sounding, while {:1.2f}% of total callbacks for the black-sounding.'.format(w_c,b_c))"
   ]
  },
  {
   "cell_type": "markdown",
   "metadata": {},
   "source": [
    "It looks like employers tend to call back more easily if the name is white-sounding.\n",
    "<br>But let's set a test to confirm. We may use bootstrap pairs replicates with function = ratio_success and do a hypothesis test with H0: ratio of white_Callbacks per application = ratio of black_Callbacks per application.<br>\n",
    "I don't know if this is the best and most straightforward solution, but it makes sense to me :)."
   ]
  },
  {
   "cell_type": "code",
   "execution_count": 10,
   "metadata": {
    "collapsed": false
   },
   "outputs": [
    {
     "data": {
      "image/png": "[encoded data removed]",
      "text/plain": [
       "<matplotlib.figure.Figure at 0x195b8e8dc50>"
      ]
     },
     "metadata": {},
     "output_type": "display_data"
    }
   ],
   "source": [
    "#1D bootstrap reps:\n",
    "def bootstrap_replicate_1d(data, func):\n",
    "    return func(np.random.choice(data, size=len(data)))\n",
    "\n",
    "#Bootstrap replicates\n",
    "def draw_bs_reps(data, func, size=1):\n",
    "    bs_replicates = np.empty(size)\n",
    "    for i in range(size):\n",
    "        bs_replicates[i] = bootstrap_replicate_1d(data,func)\n",
    "\n",
    "    return bs_replicates\n",
    "\n",
    "#I need to tune my ratio func:\n",
    "def ratio(data):\n",
    "    r= np.sum(data)/len(data)\n",
    "    return r\n",
    "\n",
    "white_reps = draw_bs_reps(white.call,ratio,10000)\n",
    "black_reps = draw_bs_reps(black.call,ratio,10000)\n",
    "\n",
    "_=plt.hist(100*white_reps, bins=10, color = 'green', normed= True,label= 'White', alpha = 0.5)\n",
    "_=plt.hist(100*black_reps, bins=10, color = 'blue', normed= True,label= 'Black', alpha = 0.5)\n",
    "_=plt.xlabel('Callbacks_race/Total_Applications [%]')\n",
    "_=plt.ylabel('pdf')\n",
    "_=plt.legend(loc='upper right')\n",
    "plt.show()"
   ]
  },
  {
   "cell_type": "markdown",
   "metadata": {},
   "source": [
    "It is quite obvious that white-sounding names get more callbacks.\n",
    "<br>\n",
    "### 1 - What test is appropriate for this problem? Does CLT apply?\n",
    "For CLT, we need normal distribution and independant observations. \n",
    "<br>We know there are independant. But whatabout normal distribution ?"
   ]
  },
  {
   "cell_type": "code",
   "execution_count": 11,
   "metadata": {
    "collapsed": false
   },
   "outputs": [
    {
     "data": {
      "image/png": "[encoded data removed]",
      "text/plain": [
       "<matplotlib.figure.Figure at 0x195b92676d8>"
      ]
     },
     "metadata": {},
     "output_type": "display_data"
    },
    {
     "data": {
      "image/png": "[encoded data removed]",
      "text/plain": [
       "<matplotlib.figure.Figure at 0x195b93ba668>"
      ]
     },
     "metadata": {},
     "output_type": "display_data"
    }
   ],
   "source": [
    "#ecdf function\n",
    "def ecdf(data):\n",
    "    n = len(data)\n",
    "    x = np.sort(data)\n",
    "    y = np.arange(1,1+n) / n\n",
    "\n",
    "    return x, y\n",
    "\n",
    "#Let's plot ECDF of our data and of normally distributed data\n",
    "central_w = np.random.normal(np.mean(white_reps),np.std(white_reps),len(white_reps))\n",
    "central_b = np.random.normal(np.mean(black_reps),np.std(black_reps),len(black_reps))\n",
    "x_w,y_w=ecdf(white_reps)\n",
    "x_b,y_b=ecdf(black_reps)\n",
    "\n",
    "x_central_w,y_central_w=ecdf(central_w)\n",
    "x_central_b,y_central_b=ecdf(central_b)\n",
    "\n",
    "x_norm = np.linspace(0, 18, 120)\n",
    "pdf_w = stats.norm.pdf(x_norm, np.mean(100*white_reps), np.std(100*white_reps))\n",
    "pdf_b = stats.norm.pdf(x_norm, np.mean(100*black_reps), np.std(100*black_reps))\n",
    "\n",
    "\n",
    "#Pdf's\n",
    "_=plt.hist(100*white_reps, bins=10, color = 'green', normed= True,label= 'White', alpha = 0.5)\n",
    "_=plt.hist(100*black_reps, bins=10, color = 'blue', normed= True,label= 'Black', alpha = 0.5)\n",
    "_=plt.plot(x_norm,pdf_w,color='green',label='normal_white')\n",
    "_=plt.plot(x_norm,pdf_b,color='blue',label='normal_balck')\n",
    "\n",
    "_=plt.xlabel('Callbacks_race/Total_Applications [%]')\n",
    "_=plt.ylabel('pdf')\n",
    "_=plt.legend(loc='upper right')\n",
    "\n",
    "plt.show()\n",
    "#ecdf's\n",
    "_=plt.plot(x_w,y_w,marker='o',linestyle='none',color='green',alpha=0.3)\n",
    "_=plt.plot(x_central_w,y_central_w,marker='.',linestyle='none',color='red',alpha=0.7)\n",
    "_=plt.plot(x_b,y_b,marker='o',linestyle='none',color='blue',alpha=0.3)\n",
    "_=plt.plot(x_central_b,y_central_b,marker='.',linestyle='none',color='red',alpha=0.7)\n",
    "_=plt.xlabel('Ratio callbacks_race/tot_applications')\n",
    "_=plt.ylabel('ECDF')\n",
    "_=plt.legend(('White_actual','White_normal','Black_actual','Black_normal'))\n",
    "plt.show()"
   ]
  },
  {
   "cell_type": "markdown",
   "metadata": {},
   "source": [
    "CLT does apply !\n",
    "\n",
    "### 2 - What are the null and alternate hypotheses?\n",
    "\n",
    "The data is normally distributed as both graphs above show !\n",
    "<br><br>\n",
    "We do not know the stdev of the POPULATION --> Using z-score would not be correct. The t-test may therefore be more logical here. But with our sample size we can use both, it should be the same.\n",
    "<br>H0: ratio of black callbacks per application = ratio of white callbacks per application\n",
    "<br>H1: ratio of black callbacks per application < ratio of white callbacks per application\n",
    "\n",
    "<br>It's the same to say:<br>\n",
    "H0: difference of ratios is equal to zero\n",
    "<br>H1: difference of ratios (white-black) is > 0\n",
    "<br>Let's have a look. We'll take a significance level of 95% (p-value < 0,05 to reject null hypothesis)\n",
    "\n",
    "### 3 - Compute margin of error, confidence interval, and p-value."
   ]
  },
  {
   "cell_type": "code",
   "execution_count": 22,
   "metadata": {
    "collapsed": false
   },
   "outputs": [
    {
     "name": "stdout",
     "output_type": "stream",
     "text": [
      "t_score is 406.24662733, p-value is 0.000000000000\n",
      "z_score is 406.24662733, p-value is 0.000000000000\n"
     ]
    }
   ],
   "source": [
    "from scipy import stats\n",
    "from statsmodels.stats.weightstats import ztest\n",
    "import statsmodels.stats.api as sms\n",
    "\n",
    "t_score, pValue_t = stats.ttest_ind(white_reps,black_reps, axis=0)\n",
    "print('t_score is {:1.8f}, p-value is {:1.12f}'.format(t_score,pValue_t))\n",
    "\n",
    "z_score, pValue_z = ztest(x1= white_reps, x2=black_reps, alternative='two-sided', usevar='pooled', ddof=1)\n",
    "print('z_score is {:1.8f}, p-value is {:1.12f}'.format(z_score,pValue_z))"
   ]
  },
  {
   "cell_type": "markdown",
   "metadata": {},
   "source": [
    "It is highly significant that there is a difference in white callbacks ratio and black callbacks ratio, which cannot be due to hazard. White-sounding name have significantly more chances to get a callback than black-sounding names.\n",
    "\n",
    "Let's do the test with our callbacks only (not the ratios from bootstrap samples=bootstrap replicates):"
   ]
  },
  {
   "cell_type": "code",
   "execution_count": 24,
   "metadata": {
    "collapsed": false
   },
   "outputs": [
    {
     "name": "stdout",
     "output_type": "stream",
     "text": [
      "t_score is 4.11470527, p-value is 0.000039408025\n",
      "z_score is 4.11470527, p-value is 0.000038767444\n"
     ]
    }
   ],
   "source": [
    "t_score, pValue_t = stats.ttest_ind(white.call,black.call, axis=0)\n",
    "print('t_score is {:1.8f}, p-value is {:1.12f}'.format(t_score,pValue_t))\n",
    "\n",
    "z_score, pValue_z = ztest(x1= white.call, x2=black.call, alternative='two-sided', usevar='pooled', ddof=1)\n",
    "print('z_score is {:1.8f}, p-value is {:1.12f}'.format(z_score,pValue_z))"
   ]
  },
  {
   "cell_type": "code",
   "execution_count": 34,
   "metadata": {
    "collapsed": false
   },
   "outputs": [
    {
     "name": "stdout",
     "output_type": "stream",
     "text": [
      "Interval of confidence (95%) for white callback ratio is :  (9.6335122693013968, 9.6572803385014776)  %\n",
      "verification :  9.63351205093 9.65728055688\n",
      "Margin of error white callbacks ratio =  0.0118840346\n",
      "Interval of confidence (95%) for black callback ratio is :  (6.4481548747000508, 6.4676726407003597)  %\n",
      "verification :  6.44815469537 6.46767282003\n",
      "Margin of error black callbacks ratio =  0.00975888300015  %\n"
     ]
    }
   ],
   "source": [
    "#Margin of error (moe) and confidence interval (CI) for 95%:\n",
    "\n",
    "#FOR WHITE CALLBACKS RATIO\n",
    "interval_w = stats.norm.interval(0.95, loc=np.mean(100*white_reps), scale=(np.std(100*white_reps)/np.sqrt(len(white_reps))))\n",
    "print('Interval of confidence (95%) for white callback ratio is : ', interval_w,' %')\n",
    "\n",
    "#We use std/sqrt(n) because of n observations in sample. See : http://napitupulu-jon.appspot.com/posts/confidence-interval-coursera-statistics.html\n",
    "\n",
    "#or 95% CI is also mean +/- 1.96*stdev\n",
    "low = np.mean(100*white_reps)-1.96*(np.std(100*white_reps)/np.sqrt(len(white_reps)))\n",
    "high=np.mean(100*white_reps)+1.96*(np.std(100*white_reps)/np.sqrt(len(white_reps)))\n",
    "print('verification : ', low,high)\n",
    "#Ok it's the same\n",
    "\n",
    "#Margin of error ME is half of interval:\n",
    "moe_w = 0.5*(interval_w[1]-interval_w[0])\n",
    "print('Margin of error white callbacks ratio = ',moe_w)\n",
    "\n",
    "#FOR BLACK CALLBACKS RATIO\n",
    "interval_w = stats.norm.interval(0.95, loc=np.mean(100*black_reps), scale=(np.std(100*black_reps)/np.sqrt(len(black_reps))))\n",
    "print('Interval of confidence (95%) for black callback ratio is : ', interval_w,' %')\n",
    "\n",
    "#We use std/sqrt(n) because of n observations in sample. See : http://napitupulu-jon.appspot.com/posts/confidence-interval-coursera-statistics.html\n",
    "\n",
    "#or 95% CI is also mean +/- 1.96*stdev\n",
    "low = np.mean(100*black_reps)-1.96*(np.std(100*black_reps)/np.sqrt(len(black_reps)))\n",
    "high=np.mean(100*black_reps)+1.96*(np.std(100*black_reps)/np.sqrt(len(black_reps)))\n",
    "print('verification : ', low,high)\n",
    "#Ok it's the same\n",
    "\n",
    "#Margin of error ME is half of interval:\n",
    "moe_w = 0.5*(interval_w[1]-interval_w[0])\n",
    "print('Margin of error black callbacks ratio = ',moe_w, ' %')"
   ]
  },
  {
   "cell_type": "markdown",
   "metadata": {},
   "source": [
    "Interval is wider for white callbacks.\n",
    "### 4 - Write a story describing the statistical significance in the context or the original problem.\n",
    "\n",
    "Here above, I tried to look at the data and perform a few tests on it in a way that makes sense to me. <br>\n",
    "I decided to look at the ratio of callbacks compared to total amount of CV sent for white and black sounding names. \n",
    "I could only perform the ratio on the one sample I had for each race. I decided to create some more samples using bootstrap. <br>Then, I could compute way more ratios (same distribution, which is normal as I could see). Plotting distribution of ratios, it was clear that there was a significant difference based on race ! But I still needed to test this.\n",
    "<br>The two samples t-test gave me comforting results with a very low p-value (0). This means there is no chance that I could get these results by chance. The null hypothesis could therefore be rejected (H0 = no difference in ratio). The difference is sgnificant ! \n",
    "<br>In the end, it sadly means that you may find it easier to get a job with a white-sounding name, as people tend to call back more easily if you have one.\n",
    "\n",
    "### 5 - Does your analysis mean that race/name is the most important factor in callback success? Why or why not? If not, how would you amend your analysis?\n",
    "\n",
    "Not at all ! It only means that race/name has a significant impact on whether you may get a call back. But it has not been compared to the other parameters.\n",
    "<br> We could look at the impact of all features on callback success/fail."
   ]
  }
 ],
 "metadata": {
  "kernelspec": {
   "display_name": "Python 3",
   "language": "python",
   "name": "python3"
  },
  "language_info": {
   "codemirror_mode": {
    "name": "ipython",
    "version": 3
   },
   "file_extension": ".py",
   "mimetype": "text/x-python",
   "name": "python",
   "nbconvert_exporter": "python",
   "pygments_lexer": "ipython3",
   "version": "3.6.0"
  }
 },
 "nbformat": 4,
 "nbformat_minor": 1
}
